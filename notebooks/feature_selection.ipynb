{
 "cells": [
  {
   "cell_type": "code",
   "execution_count": 51,
   "id": "distant-booth",
   "metadata": {},
   "outputs": [],
   "source": [
    "import numpy as np \n",
    "import pandas as pd \n",
    "import seaborn as sns\n",
    "import matplotlib.pyplot as plt\n",
    "import time\n",
    "import warnings\n",
    "import statsmodels.api as sm\n",
    "from sklearn.model_selection import train_test_split\n",
    "from sklearn.ensemble import RandomForestClassifier\n",
    "from sklearn.metrics import f1_score,confusion_matrix\n",
    "from sklearn.metrics import accuracy_score"
   ]
  },
  {
   "cell_type": "code",
   "execution_count": 52,
   "id": "coordinated-leader",
   "metadata": {},
   "outputs": [],
   "source": [
    "warnings.filterwarnings('ignore')"
   ]
  },
  {
   "cell_type": "code",
   "execution_count": 53,
   "id": "detected-failure",
   "metadata": {},
   "outputs": [],
   "source": [
    "data=pd.read_csv('../Data/data.csv')"
   ]
  },
  {
   "cell_type": "code",
   "execution_count": 54,
   "id": "marked-diary",
   "metadata": {
    "scrolled": true
   },
   "outputs": [],
   "source": [
    "data.replace({'diagnosis':{'B':1,'M':0}},inplace=True)"
   ]
  },
  {
   "cell_type": "code",
   "execution_count": 55,
   "id": "every-charm",
   "metadata": {},
   "outputs": [],
   "source": [
    "#select features only\n",
    "x=data.drop(['id','diagnosis','Unnamed: 32'],axis=1)\n",
    "y=data['diagnosis']"
   ]
  },
  {
   "cell_type": "code",
   "execution_count": 56,
   "id": "economic-commons",
   "metadata": {},
   "outputs": [
    {
     "data": {
      "text/html": [
       "<div>\n",
       "<style scoped>\n",
       "    .dataframe tbody tr th:only-of-type {\n",
       "        vertical-align: middle;\n",
       "    }\n",
       "\n",
       "    .dataframe tbody tr th {\n",
       "        vertical-align: top;\n",
       "    }\n",
       "\n",
       "    .dataframe thead th {\n",
       "        text-align: right;\n",
       "    }\n",
       "</style>\n",
       "<table border=\"1\" class=\"dataframe\">\n",
       "  <thead>\n",
       "    <tr style=\"text-align: right;\">\n",
       "      <th></th>\n",
       "      <th>radius_mean</th>\n",
       "      <th>texture_mean</th>\n",
       "      <th>perimeter_mean</th>\n",
       "      <th>area_mean</th>\n",
       "      <th>smoothness_mean</th>\n",
       "      <th>compactness_mean</th>\n",
       "      <th>concavity_mean</th>\n",
       "      <th>concave points_mean</th>\n",
       "      <th>symmetry_mean</th>\n",
       "      <th>fractal_dimension_mean</th>\n",
       "      <th>...</th>\n",
       "      <th>radius_worst</th>\n",
       "      <th>texture_worst</th>\n",
       "      <th>perimeter_worst</th>\n",
       "      <th>area_worst</th>\n",
       "      <th>smoothness_worst</th>\n",
       "      <th>compactness_worst</th>\n",
       "      <th>concavity_worst</th>\n",
       "      <th>concave points_worst</th>\n",
       "      <th>symmetry_worst</th>\n",
       "      <th>fractal_dimension_worst</th>\n",
       "    </tr>\n",
       "  </thead>\n",
       "  <tbody>\n",
       "    <tr>\n",
       "      <th>count</th>\n",
       "      <td>569.000000</td>\n",
       "      <td>569.000000</td>\n",
       "      <td>569.000000</td>\n",
       "      <td>569.000000</td>\n",
       "      <td>569.000000</td>\n",
       "      <td>569.000000</td>\n",
       "      <td>569.000000</td>\n",
       "      <td>569.000000</td>\n",
       "      <td>569.000000</td>\n",
       "      <td>569.000000</td>\n",
       "      <td>...</td>\n",
       "      <td>569.000000</td>\n",
       "      <td>569.000000</td>\n",
       "      <td>569.000000</td>\n",
       "      <td>569.000000</td>\n",
       "      <td>569.000000</td>\n",
       "      <td>569.000000</td>\n",
       "      <td>569.000000</td>\n",
       "      <td>569.000000</td>\n",
       "      <td>569.000000</td>\n",
       "      <td>569.000000</td>\n",
       "    </tr>\n",
       "    <tr>\n",
       "      <th>mean</th>\n",
       "      <td>14.127292</td>\n",
       "      <td>19.289649</td>\n",
       "      <td>91.969033</td>\n",
       "      <td>654.889104</td>\n",
       "      <td>0.096360</td>\n",
       "      <td>0.104341</td>\n",
       "      <td>0.088799</td>\n",
       "      <td>0.048919</td>\n",
       "      <td>0.181162</td>\n",
       "      <td>0.062798</td>\n",
       "      <td>...</td>\n",
       "      <td>16.269190</td>\n",
       "      <td>25.677223</td>\n",
       "      <td>107.261213</td>\n",
       "      <td>880.583128</td>\n",
       "      <td>0.132369</td>\n",
       "      <td>0.254265</td>\n",
       "      <td>0.272188</td>\n",
       "      <td>0.114606</td>\n",
       "      <td>0.290076</td>\n",
       "      <td>0.083946</td>\n",
       "    </tr>\n",
       "    <tr>\n",
       "      <th>std</th>\n",
       "      <td>3.524049</td>\n",
       "      <td>4.301036</td>\n",
       "      <td>24.298981</td>\n",
       "      <td>351.914129</td>\n",
       "      <td>0.014064</td>\n",
       "      <td>0.052813</td>\n",
       "      <td>0.079720</td>\n",
       "      <td>0.038803</td>\n",
       "      <td>0.027414</td>\n",
       "      <td>0.007060</td>\n",
       "      <td>...</td>\n",
       "      <td>4.833242</td>\n",
       "      <td>6.146258</td>\n",
       "      <td>33.602542</td>\n",
       "      <td>569.356993</td>\n",
       "      <td>0.022832</td>\n",
       "      <td>0.157336</td>\n",
       "      <td>0.208624</td>\n",
       "      <td>0.065732</td>\n",
       "      <td>0.061867</td>\n",
       "      <td>0.018061</td>\n",
       "    </tr>\n",
       "    <tr>\n",
       "      <th>min</th>\n",
       "      <td>6.981000</td>\n",
       "      <td>9.710000</td>\n",
       "      <td>43.790000</td>\n",
       "      <td>143.500000</td>\n",
       "      <td>0.052630</td>\n",
       "      <td>0.019380</td>\n",
       "      <td>0.000000</td>\n",
       "      <td>0.000000</td>\n",
       "      <td>0.106000</td>\n",
       "      <td>0.049960</td>\n",
       "      <td>...</td>\n",
       "      <td>7.930000</td>\n",
       "      <td>12.020000</td>\n",
       "      <td>50.410000</td>\n",
       "      <td>185.200000</td>\n",
       "      <td>0.071170</td>\n",
       "      <td>0.027290</td>\n",
       "      <td>0.000000</td>\n",
       "      <td>0.000000</td>\n",
       "      <td>0.156500</td>\n",
       "      <td>0.055040</td>\n",
       "    </tr>\n",
       "    <tr>\n",
       "      <th>25%</th>\n",
       "      <td>11.700000</td>\n",
       "      <td>16.170000</td>\n",
       "      <td>75.170000</td>\n",
       "      <td>420.300000</td>\n",
       "      <td>0.086370</td>\n",
       "      <td>0.064920</td>\n",
       "      <td>0.029560</td>\n",
       "      <td>0.020310</td>\n",
       "      <td>0.161900</td>\n",
       "      <td>0.057700</td>\n",
       "      <td>...</td>\n",
       "      <td>13.010000</td>\n",
       "      <td>21.080000</td>\n",
       "      <td>84.110000</td>\n",
       "      <td>515.300000</td>\n",
       "      <td>0.116600</td>\n",
       "      <td>0.147200</td>\n",
       "      <td>0.114500</td>\n",
       "      <td>0.064930</td>\n",
       "      <td>0.250400</td>\n",
       "      <td>0.071460</td>\n",
       "    </tr>\n",
       "    <tr>\n",
       "      <th>50%</th>\n",
       "      <td>13.370000</td>\n",
       "      <td>18.840000</td>\n",
       "      <td>86.240000</td>\n",
       "      <td>551.100000</td>\n",
       "      <td>0.095870</td>\n",
       "      <td>0.092630</td>\n",
       "      <td>0.061540</td>\n",
       "      <td>0.033500</td>\n",
       "      <td>0.179200</td>\n",
       "      <td>0.061540</td>\n",
       "      <td>...</td>\n",
       "      <td>14.970000</td>\n",
       "      <td>25.410000</td>\n",
       "      <td>97.660000</td>\n",
       "      <td>686.500000</td>\n",
       "      <td>0.131300</td>\n",
       "      <td>0.211900</td>\n",
       "      <td>0.226700</td>\n",
       "      <td>0.099930</td>\n",
       "      <td>0.282200</td>\n",
       "      <td>0.080040</td>\n",
       "    </tr>\n",
       "    <tr>\n",
       "      <th>75%</th>\n",
       "      <td>15.780000</td>\n",
       "      <td>21.800000</td>\n",
       "      <td>104.100000</td>\n",
       "      <td>782.700000</td>\n",
       "      <td>0.105300</td>\n",
       "      <td>0.130400</td>\n",
       "      <td>0.130700</td>\n",
       "      <td>0.074000</td>\n",
       "      <td>0.195700</td>\n",
       "      <td>0.066120</td>\n",
       "      <td>...</td>\n",
       "      <td>18.790000</td>\n",
       "      <td>29.720000</td>\n",
       "      <td>125.400000</td>\n",
       "      <td>1084.000000</td>\n",
       "      <td>0.146000</td>\n",
       "      <td>0.339100</td>\n",
       "      <td>0.382900</td>\n",
       "      <td>0.161400</td>\n",
       "      <td>0.317900</td>\n",
       "      <td>0.092080</td>\n",
       "    </tr>\n",
       "    <tr>\n",
       "      <th>max</th>\n",
       "      <td>28.110000</td>\n",
       "      <td>39.280000</td>\n",
       "      <td>188.500000</td>\n",
       "      <td>2501.000000</td>\n",
       "      <td>0.163400</td>\n",
       "      <td>0.345400</td>\n",
       "      <td>0.426800</td>\n",
       "      <td>0.201200</td>\n",
       "      <td>0.304000</td>\n",
       "      <td>0.097440</td>\n",
       "      <td>...</td>\n",
       "      <td>36.040000</td>\n",
       "      <td>49.540000</td>\n",
       "      <td>251.200000</td>\n",
       "      <td>4254.000000</td>\n",
       "      <td>0.222600</td>\n",
       "      <td>1.058000</td>\n",
       "      <td>1.252000</td>\n",
       "      <td>0.291000</td>\n",
       "      <td>0.663800</td>\n",
       "      <td>0.207500</td>\n",
       "    </tr>\n",
       "  </tbody>\n",
       "</table>\n",
       "<p>8 rows × 30 columns</p>\n",
       "</div>"
      ],
      "text/plain": [
       "       radius_mean  texture_mean  perimeter_mean    area_mean  \\\n",
       "count   569.000000    569.000000      569.000000   569.000000   \n",
       "mean     14.127292     19.289649       91.969033   654.889104   \n",
       "std       3.524049      4.301036       24.298981   351.914129   \n",
       "min       6.981000      9.710000       43.790000   143.500000   \n",
       "25%      11.700000     16.170000       75.170000   420.300000   \n",
       "50%      13.370000     18.840000       86.240000   551.100000   \n",
       "75%      15.780000     21.800000      104.100000   782.700000   \n",
       "max      28.110000     39.280000      188.500000  2501.000000   \n",
       "\n",
       "       smoothness_mean  compactness_mean  concavity_mean  concave points_mean  \\\n",
       "count       569.000000        569.000000      569.000000           569.000000   \n",
       "mean          0.096360          0.104341        0.088799             0.048919   \n",
       "std           0.014064          0.052813        0.079720             0.038803   \n",
       "min           0.052630          0.019380        0.000000             0.000000   \n",
       "25%           0.086370          0.064920        0.029560             0.020310   \n",
       "50%           0.095870          0.092630        0.061540             0.033500   \n",
       "75%           0.105300          0.130400        0.130700             0.074000   \n",
       "max           0.163400          0.345400        0.426800             0.201200   \n",
       "\n",
       "       symmetry_mean  fractal_dimension_mean  ...  radius_worst  \\\n",
       "count     569.000000              569.000000  ...    569.000000   \n",
       "mean        0.181162                0.062798  ...     16.269190   \n",
       "std         0.027414                0.007060  ...      4.833242   \n",
       "min         0.106000                0.049960  ...      7.930000   \n",
       "25%         0.161900                0.057700  ...     13.010000   \n",
       "50%         0.179200                0.061540  ...     14.970000   \n",
       "75%         0.195700                0.066120  ...     18.790000   \n",
       "max         0.304000                0.097440  ...     36.040000   \n",
       "\n",
       "       texture_worst  perimeter_worst   area_worst  smoothness_worst  \\\n",
       "count     569.000000       569.000000   569.000000        569.000000   \n",
       "mean       25.677223       107.261213   880.583128          0.132369   \n",
       "std         6.146258        33.602542   569.356993          0.022832   \n",
       "min        12.020000        50.410000   185.200000          0.071170   \n",
       "25%        21.080000        84.110000   515.300000          0.116600   \n",
       "50%        25.410000        97.660000   686.500000          0.131300   \n",
       "75%        29.720000       125.400000  1084.000000          0.146000   \n",
       "max        49.540000       251.200000  4254.000000          0.222600   \n",
       "\n",
       "       compactness_worst  concavity_worst  concave points_worst  \\\n",
       "count         569.000000       569.000000            569.000000   \n",
       "mean            0.254265         0.272188              0.114606   \n",
       "std             0.157336         0.208624              0.065732   \n",
       "min             0.027290         0.000000              0.000000   \n",
       "25%             0.147200         0.114500              0.064930   \n",
       "50%             0.211900         0.226700              0.099930   \n",
       "75%             0.339100         0.382900              0.161400   \n",
       "max             1.058000         1.252000              0.291000   \n",
       "\n",
       "       symmetry_worst  fractal_dimension_worst  \n",
       "count      569.000000               569.000000  \n",
       "mean         0.290076                 0.083946  \n",
       "std          0.061867                 0.018061  \n",
       "min          0.156500                 0.055040  \n",
       "25%          0.250400                 0.071460  \n",
       "50%          0.282200                 0.080040  \n",
       "75%          0.317900                 0.092080  \n",
       "max          0.663800                 0.207500  \n",
       "\n",
       "[8 rows x 30 columns]"
      ]
     },
     "execution_count": 56,
     "metadata": {},
     "output_type": "execute_result"
    }
   ],
   "source": [
    "x.describe()"
   ]
  },
  {
   "cell_type": "markdown",
   "id": "lucky-talent",
   "metadata": {},
   "source": [
    "#### Feature Selection using Correlation"
   ]
  },
  {
   "cell_type": "markdown",
   "id": "regulation-harvest",
   "metadata": {},
   "source": [
    "The simplest method for feature selection is correlation between independent variables. Most ML models perform well when they are trained on only important features and for our case, we have 30 exploratory features. Using correlation coefficients, we can assume that variables with high correlation are redundant t a model and remain with any (arbitrary) on among them."
   ]
  },
  {
   "cell_type": "code",
   "execution_count": 57,
   "id": "molecular-zealand",
   "metadata": {},
   "outputs": [
    {
     "data": {
      "text/plain": [
       "<AxesSubplot:>"
      ]
     },
     "execution_count": 57,
     "metadata": {},
     "output_type": "execute_result"
    },
    {
     "data": {
      "image/png": "[encoded data removed]",
      "text/plain": [
       "<Figure size 432x288 with 2 Axes>"
      ]
     },
     "metadata": {
      "needs_background": "light"
     },
     "output_type": "display_data"
    }
   ],
   "source": [
    "sns.heatmap(x.corr())"
   ]
  },
  {
   "cell_type": "code",
   "execution_count": 58,
   "id": "copyrighted-today",
   "metadata": {},
   "outputs": [],
   "source": [
    "corr=x.corr()"
   ]
  },
  {
   "cell_type": "code",
   "execution_count": 59,
   "id": "metric-nickname",
   "metadata": {},
   "outputs": [],
   "source": [
    "columns = np.full((corr.shape[0],), True, dtype=bool)\n",
    "for i in range(corr.shape[0]):\n",
    "    for j in range(i+1, corr.shape[0]):\n",
    "        if corr.iloc[i,j] >= 0.9:\n",
    "            if columns[j]:\n",
    "                columns[j] = False"
   ]
  },
  {
   "cell_type": "code",
   "execution_count": 60,
   "id": "accepting-tuning",
   "metadata": {},
   "outputs": [],
   "source": [
    "# Selected column\n",
    "cols_pass=x.columns[columns].to_list()\n",
    "cols_dropped_corr=x.columns[~columns].to_list()"
   ]
  },
  {
   "cell_type": "code",
   "execution_count": 61,
   "id": "absent-webmaster",
   "metadata": {
    "scrolled": false
   },
   "outputs": [
    {
     "name": "stdout",
     "output_type": "stream",
     "text": [
      "Number of selected cols: 20\n"
     ]
    },
    {
     "data": {
      "text/plain": [
       "['radius_mean',\n",
       " 'texture_mean',\n",
       " 'smoothness_mean',\n",
       " 'compactness_mean',\n",
       " 'concavity_mean',\n",
       " 'symmetry_mean',\n",
       " 'fractal_dimension_mean',\n",
       " 'radius_se',\n",
       " 'texture_se',\n",
       " 'smoothness_se',\n",
       " 'compactness_se',\n",
       " 'concavity_se',\n",
       " 'concave points_se',\n",
       " 'symmetry_se',\n",
       " 'fractal_dimension_se',\n",
       " 'smoothness_worst',\n",
       " 'compactness_worst',\n",
       " 'concavity_worst',\n",
       " 'symmetry_worst',\n",
       " 'fractal_dimension_worst']"
      ]
     },
     "execution_count": 61,
     "metadata": {},
     "output_type": "execute_result"
    }
   ],
   "source": [
    "print('Number of selected cols: {}'.format(len(cols_pass)))\n",
    "cols_pass"
   ]
  },
  {
   "cell_type": "code",
   "execution_count": 62,
   "id": "therapeutic-scene",
   "metadata": {},
   "outputs": [
    {
     "name": "stdout",
     "output_type": "stream",
     "text": [
      "Number of removed cols: 10\n"
     ]
    },
    {
     "data": {
      "text/plain": [
       "['perimeter_mean',\n",
       " 'area_mean',\n",
       " 'concave points_mean',\n",
       " 'perimeter_se',\n",
       " 'area_se',\n",
       " 'radius_worst',\n",
       " 'texture_worst',\n",
       " 'perimeter_worst',\n",
       " 'area_worst',\n",
       " 'concave points_worst']"
      ]
     },
     "execution_count": 62,
     "metadata": {},
     "output_type": "execute_result"
    }
   ],
   "source": [
    "print('Number of removed cols: {}'.format(len(cols_dropped_corr)))\n",
    "cols_dropped_corr"
   ]
  },
  {
   "cell_type": "markdown",
   "id": "guilty-daily",
   "metadata": {},
   "source": [
    "By removing columns which are highly correlated (>=0.9, which is very high correlation usualy), we remain with 20 features"
   ]
  },
  {
   "cell_type": "markdown",
   "id": "environmental-chrome",
   "metadata": {},
   "source": [
    "#### Tree based feature selection and random forest classification"
   ]
  },
  {
   "cell_type": "code",
   "execution_count": 63,
   "id": "significant-diagnosis",
   "metadata": {},
   "outputs": [],
   "source": [
    "x_new=x[cols_pass]"
   ]
  },
  {
   "cell_type": "code",
   "execution_count": 64,
   "id": "coral-blind",
   "metadata": {},
   "outputs": [],
   "source": [
    "# split data train 80 % and test 20 %\n",
    "x_train, x_test, y_train, y_test = train_test_split(x, y, test_size=0.2, random_state=42)"
   ]
  },
  {
   "cell_type": "code",
   "execution_count": 65,
   "id": "civil-affiliate",
   "metadata": {
    "scrolled": true
   },
   "outputs": [],
   "source": [
    "def random_forest_fimportance(x_train,y_train):\n",
    "    clf_rf_5 = RandomForestClassifier()      \n",
    "    clr_rf_5 = clf_rf_5.fit(x_train,y_train)\n",
    "    importances = clr_rf_5.feature_importances_\n",
    "    indices = np.argsort(importances)[::-1]\n",
    "\n",
    "    # Print the feature ranking\n",
    "    print(\"Feature ranking:\")\n",
    "\n",
    "    for f in range(x_train.shape[1]):\n",
    "        print(\"%d. feature %d (%f)\" % (f + 1, indices[f], importances[indices[f]]))\n",
    "\n",
    "    # Plot the feature importances of the forest\n",
    "\n",
    "    plt.figure(1, figsize=(14, 7))\n",
    "    plt.title(\"Feature importances\")\n",
    "    plt.bar(range(x_train.shape[1]), importances[indices])\n",
    "    plt.xticks(range(x_train.shape[1]), x_train.columns[indices],rotation=90)\n",
    "    plt.xlim([-1, x_train.shape[1]])\n",
    "    plt.show()\n",
    "    \n",
    "    return clf_rf_5"
   ]
  },
  {
   "cell_type": "code",
   "execution_count": 66,
   "id": "psychological-wayne",
   "metadata": {},
   "outputs": [
    {
     "name": "stdout",
     "output_type": "stream",
     "text": [
      "Feature ranking:\n",
      "1. feature 27 (0.161127)\n",
      "2. feature 23 (0.148720)\n",
      "3. feature 22 (0.135123)\n",
      "4. feature 20 (0.124586)\n",
      "5. feature 7 (0.076026)\n",
      "6. feature 26 (0.046973)\n",
      "7. feature 2 (0.037818)\n",
      "8. feature 6 (0.035752)\n",
      "9. feature 13 (0.024491)\n",
      "10. feature 0 (0.024282)\n",
      "11. feature 3 (0.019372)\n",
      "12. feature 21 (0.017748)\n",
      "13. feature 12 (0.016666)\n",
      "14. feature 1 (0.015850)\n",
      "15. feature 25 (0.014177)\n",
      "16. feature 24 (0.012096)\n",
      "17. feature 28 (0.011764)\n",
      "18. feature 10 (0.010021)\n",
      "19. feature 16 (0.008421)\n",
      "20. feature 5 (0.006677)\n",
      "21. feature 15 (0.006508)\n",
      "22. feature 9 (0.006265)\n",
      "23. feature 4 (0.006157)\n",
      "24. feature 29 (0.006129)\n",
      "25. feature 19 (0.005615)\n",
      "26. feature 11 (0.005221)\n",
      "27. feature 14 (0.004708)\n",
      "28. feature 18 (0.004461)\n",
      "29. feature 8 (0.003999)\n",
      "30. feature 17 (0.003246)\n"
     ]
    },
    {
     "data": {
      "image/png": "[encoded data removed]",
      "text/plain": [
       "<Figure size 1008x504 with 1 Axes>"
      ]
     },
     "metadata": {
      "needs_background": "light"
     },
     "output_type": "display_data"
    }
   ],
   "source": [
    "rf_model1=random_forest_fimportance(x_train,y_train)"
   ]
  },
  {
   "cell_type": "code",
   "execution_count": 67,
   "id": "advanced-brake",
   "metadata": {
    "scrolled": true
   },
   "outputs": [
    {
     "name": "stdout",
     "output_type": "stream",
     "text": [
      "Accuracy is:  0.9649122807017544\n"
     ]
    },
    {
     "data": {
      "image/png": "[encoded data removed]",
      "text/plain": [
       "<Figure size 432x288 with 2 Axes>"
      ]
     },
     "metadata": {
      "needs_background": "light"
     },
     "output_type": "display_data"
    }
   ],
   "source": [
    "acc_score = accuracy_score(y_test,rf_model1.predict(x_test))\n",
    "print('Accuracy is: ',acc_score)\n",
    "confusion_mat = confusion_matrix(y_test,rf_model1.predict(x_test))\n",
    "_=sns.heatmap(confusion_mat,annot=True,fmt=\"d\")"
   ]
  },
  {
   "cell_type": "code",
   "execution_count": 68,
   "id": "fuzzy-soldier",
   "metadata": {},
   "outputs": [],
   "source": [
    "x_train1, x_test1, y_train1, y_test1 = train_test_split(x_new, y, test_size=0.2, random_state=42)"
   ]
  },
  {
   "cell_type": "code",
   "execution_count": 69,
   "id": "logical-series",
   "metadata": {
    "scrolled": false
   },
   "outputs": [
    {
     "name": "stdout",
     "output_type": "stream",
     "text": [
      "Feature ranking:\n",
      "1. feature 4 (0.174584)\n",
      "2. feature 0 (0.173044)\n",
      "3. feature 17 (0.127130)\n",
      "4. feature 7 (0.107261)\n",
      "5. feature 16 (0.064566)\n",
      "6. feature 3 (0.057111)\n",
      "7. feature 1 (0.037809)\n",
      "8. feature 11 (0.034858)\n",
      "9. feature 6 (0.032550)\n",
      "10. feature 18 (0.030014)\n",
      "11. feature 15 (0.027789)\n",
      "12. feature 2 (0.020904)\n",
      "13. feature 12 (0.020398)\n",
      "14. feature 10 (0.018152)\n",
      "15. feature 14 (0.016709)\n",
      "16. feature 13 (0.014558)\n",
      "17. feature 19 (0.011318)\n",
      "18. feature 8 (0.011127)\n",
      "19. feature 9 (0.010129)\n",
      "20. feature 5 (0.009989)\n"
     ]
    },
    {
     "data": {
      "image/png": "[encoded data removed]",
      "text/plain": [
       "<Figure size 1008x504 with 1 Axes>"
      ]
     },
     "metadata": {
      "needs_background": "light"
     },
     "output_type": "display_data"
    }
   ],
   "source": [
    "rf_model2=random_forest_fimportance(x_train1,y_train1)"
   ]
  },
  {
   "cell_type": "code",
   "execution_count": 70,
   "id": "decreased-poland",
   "metadata": {},
   "outputs": [
    {
     "name": "stdout",
     "output_type": "stream",
     "text": [
      "Accuracy is: 0.956140350877193\n"
     ]
    },
    {
     "data": {
      "image/png": "[encoded data removed]",
      "text/plain": [
       "<Figure size 432x288 with 1 Axes>"
      ]
     },
     "metadata": {
      "needs_background": "light"
     },
     "output_type": "display_data"
    }
   ],
   "source": [
    "acc_score1 = accuracy_score(y_test1,rf_model2.predict(x_test1))\n",
    "print('Accuracy is: {}'.format(acc_score1))\n",
    "confusion_mat1 = confusion_matrix(y_test1,rf_model2.predict(x_test1))\n",
    "_=sns.heatmap(confusion_mat1,annot=True,fmt=\"d\",cbar=False)"
   ]
  },
  {
   "cell_type": "markdown",
   "id": "tutorial-translation",
   "metadata": {},
   "source": [
    "By using confusion matrix accuracy score, we can see that the RF with 20 features actually has more accuracy that the model with 30 features"
   ]
  },
  {
   "cell_type": "markdown",
   "id": "mechanical-listing",
   "metadata": {},
   "source": [
    "### Stepwise forward elimination"
   ]
  },
  {
   "cell_type": "code",
   "execution_count": 71,
   "id": "resistant-multiple",
   "metadata": {},
   "outputs": [],
   "source": [
    "def backward_regression(X, y,\n",
    "                           threshold_out,\n",
    "                           verbose=False):\n",
    "    included=list(X.columns)\n",
    "    while True:\n",
    "        changed=False\n",
    "        model = sm.OLS(y, sm.add_constant(pd.DataFrame(X[included]))).fit()\n",
    "        # use all coefs except intercept\n",
    "        pvalues = model.pvalues.iloc[1:]\n",
    "        worst_pval = pvalues.max() # null if pvalues is empty\n",
    "        if worst_pval > threshold_out:\n",
    "            changed=True\n",
    "            worst_feature = pvalues.idxmax()\n",
    "            included.remove(worst_feature)\n",
    "            if verbose:\n",
    "                print('Drop {:30} with p-value {:.6}'.format(worst_feature, worst_pval))\n",
    "        if not changed:\n",
    "            break\n",
    "    return pvalues,model"
   ]
  },
  {
   "cell_type": "code",
   "execution_count": 72,
   "id": "billion-gamma",
   "metadata": {},
   "outputs": [],
   "source": [
    "def forward_regression(X, y,\n",
    "                       threshold_in,\n",
    "                       verbose=False):\n",
    "    initial_list = []\n",
    "    included = list(initial_list)\n",
    "    while True:\n",
    "        changed=False\n",
    "        excluded = list(set(X.columns)-set(included))\n",
    "        new_pval = pd.Series(index=excluded)\n",
    "        for new_column in excluded:\n",
    "            model = sm.OLS(y, sm.add_constant(pd.DataFrame(X[included+[new_column]]))).fit()\n",
    "            new_pval[new_column] = model.pvalues[new_column]\n",
    "        best_pval = new_pval.min()\n",
    "        if best_pval < threshold_in:\n",
    "            best_feature = new_pval.idxmin()\n",
    "            included.append(best_feature)\n",
    "            changed=True\n",
    "            if verbose:\n",
    "                print('Add  {:30} with p-value {:.6}'.format(best_feature, best_pval))\n",
    "\n",
    "        if not changed:\n",
    "            break\n",
    "\n",
    "    return model"
   ]
  },
  {
   "cell_type": "code",
   "execution_count": 73,
   "id": "impressive-apparatus",
   "metadata": {},
   "outputs": [
    {
     "name": "stdout",
     "output_type": "stream",
     "text": [
      "Add  concave points_worst           with p-value 1.9691e-124\n",
      "Add  radius_worst                   with p-value 9.9718e-24\n",
      "Add  texture_worst                  with p-value 3.39287e-11\n",
      "Add  area_worst                     with p-value 1.65889e-05\n",
      "Add  smoothness_se                  with p-value 2.91155e-07\n",
      "Add  symmetry_worst                 with p-value 3.43004e-05\n",
      "Add  compactness_se                 with p-value 0.00672453\n",
      "Add  radius_se                      with p-value 0.000726958\n",
      "Add  fractal_dimension_worst        with p-value 0.00195804\n",
      "Add  compactness_mean               with p-value 0.00456211\n",
      "Add  concave points_mean            with p-value 0.00103855\n",
      "Add  concavity_worst                with p-value 0.0399533\n",
      "Add  concavity_se                   with p-value 0.010809\n",
      "Add  area_se                        with p-value 0.0395764\n"
     ]
    }
   ],
   "source": [
    "model_fwd=forward_regression(x,y,0.05,verbose=True)"
   ]
  },
  {
   "cell_type": "code",
   "execution_count": 36,
   "id": "painted-filing",
   "metadata": {},
   "outputs": [],
   "source": [
    "hh=model.pvalues.to_dict()"
   ]
  },
  {
   "cell_type": "code",
   "execution_count": null,
   "id": "magnetic-digest",
   "metadata": {},
   "outputs": [],
   "source": []
  },
  {
   "cell_type": "code",
   "execution_count": 23,
   "id": "practical-generator",
   "metadata": {
    "scrolled": true
   },
   "outputs": [
    {
     "name": "stdout",
     "output_type": "stream",
     "text": [
      "Drop fractal_dimension_mean         with p-value 0.99524\n",
      "Drop compactness_se                 with p-value 0.976352\n",
      "Drop smoothness_mean                with p-value 0.967554\n",
      "Drop symmetry_mean                  with p-value 0.883741\n",
      "Drop texture_se                     with p-value 0.877632\n",
      "Drop compactness_worst              with p-value 0.822968\n",
      "Drop perimeter_worst                with p-value 0.716892\n",
      "Drop concave points_worst           with p-value 0.610862\n",
      "Drop area_se                        with p-value 0.64006\n"
     ]
    }
   ],
   "source": [
    "p_values,model=backward_regression(x,y,0.6,verbose=True)"
   ]
  },
  {
   "cell_type": "code",
   "execution_count": 45,
   "id": "contained-mainstream",
   "metadata": {},
   "outputs": [],
   "source": [
    "cols_dropped_br=list(p_values.index)"
   ]
  },
  {
   "cell_type": "code",
   "execution_count": 48,
   "id": "prescription-olympus",
   "metadata": {},
   "outputs": [
    {
     "data": {
      "text/plain": [
       "['radius_mean',\n",
       " 'texture_mean',\n",
       " 'perimeter_mean',\n",
       " 'area_mean',\n",
       " 'compactness_mean',\n",
       " 'concavity_mean',\n",
       " 'concave points_mean',\n",
       " 'radius_se',\n",
       " 'perimeter_se',\n",
       " 'smoothness_se',\n",
       " 'concavity_se',\n",
       " 'concave points_se',\n",
       " 'symmetry_se',\n",
       " 'fractal_dimension_se',\n",
       " 'radius_worst',\n",
       " 'texture_worst',\n",
       " 'area_worst',\n",
       " 'smoothness_worst',\n",
       " 'concavity_worst',\n",
       " 'symmetry_worst',\n",
       " 'fractal_dimension_worst']"
      ]
     },
     "execution_count": 48,
     "metadata": {},
     "output_type": "execute_result"
    }
   ],
   "source": [
    "cols_dropped_br"
   ]
  },
  {
   "cell_type": "code",
   "execution_count": 47,
   "id": "dirty-casino",
   "metadata": {},
   "outputs": [
    {
     "data": {
      "text/plain": [
       "{'area_mean',\n",
       " 'area_worst',\n",
       " 'concave points_mean',\n",
       " 'perimeter_mean',\n",
       " 'perimeter_se',\n",
       " 'radius_worst',\n",
       " 'texture_worst'}"
      ]
     },
     "execution_count": 47,
     "metadata": {},
     "output_type": "execute_result"
    }
   ],
   "source": [
    "set(cols_dropped_br)&set(cols_dropped_corr)"
   ]
  },
  {
   "cell_type": "code",
   "execution_count": 30,
   "id": "worthy-cheat",
   "metadata": {},
   "outputs": [
    {
     "ename": "SyntaxError",
     "evalue": "invalid syntax (<ipython-input-30-79d662a88110>, line 1)",
     "output_type": "error",
     "traceback": [
      "\u001b[1;36m  File \u001b[1;32m\"<ipython-input-30-79d662a88110>\"\u001b[1;36m, line \u001b[1;32m1\u001b[0m\n\u001b[1;33m    corr.where(>0.9)\u001b[0m\n\u001b[1;37m               ^\u001b[0m\n\u001b[1;31mSyntaxError\u001b[0m\u001b[1;31m:\u001b[0m invalid syntax\n"
     ]
    }
   ],
   "source": [
    "corr.where(>0.9)"
   ]
  }
 ],
 "metadata": {
  "hide_input": false,
  "kernelspec": {
   "display_name": "Python 3",
   "language": "python",
   "name": "python3"
  },
  "language_info": {
   "codemirror_mode": {
    "name": "ipython",
    "version": 3
   },
   "file_extension": ".py",
   "mimetype": "text/x-python",
   "name": "python",
   "nbconvert_exporter": "python",
   "pygments_lexer": "ipython3",
   "version": "3.6.5"
  },
  "latex_envs": {
   "LaTeX_envs_menu_present": true,
   "autoclose": false,
   "autocomplete": true,
   "bibliofile": "biblio.bib",
   "cite_by": "apalike",
   "current_citInitial": 1,
   "eqLabelWithNumbers": true,
   "eqNumInitial": 1,
   "hotkeys": {
    "equation": "Ctrl-E",
    "itemize": "Ctrl-I"
   },
   "labels_anchors": false,
   "latex_user_defs": false,
   "report_style_numbering": false,
   "user_envs_cfg": false
  }
 },
 "nbformat": 4,
 "nbformat_minor": 5
}
