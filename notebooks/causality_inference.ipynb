{
 "cells": [
  {
   "cell_type": "code",
   "execution_count": 2,
   "id": "civilian-blank",
   "metadata": {},
   "outputs": [
    {
     "name": "stderr",
     "output_type": "stream",
     "text": [
      "WARNING:root:MDLP was not imported successfully\n"
     ]
    }
   ],
   "source": [
    "import pandas as pd\n",
    "import matplotlib.pyplot as plt\n",
    "import numpy as np\n",
    "\n",
    "from sklearn.model_selection import train_test_split\n",
    "from sklearn.pipeline import make_pipeline, make_union\n",
    "from sklearn.preprocessing import MinMaxScaler\n",
    "from sklearn.preprocessing import StandardScaler\n",
    "\n",
    "from causalnex.structure.notears import from_pandas\n",
    "from causalnex.structure import StructureModel\n",
    "from causalnex.network import BayesianNetwork\n",
    "from causalnex.plots import plot_structure, NODE_STYLE, EDGE_STYLE\n",
    "from causalnex.discretiser import Discretiser\n",
    "from causalnex.discretiser.discretiser_strategy import ( DecisionTreeSupervisedDiscretiserMethod )\n",
    "from causalnex.evaluation import classification_report,roc_auc\n",
    "import networkx as nx\n",
    "import warnings\n",
    "warnings.filterwarnings('ignore')"
   ]
  },
  {
   "cell_type": "code",
   "execution_count": 1,
   "id": "printable-awareness",
   "metadata": {},
   "outputs": [],
   "source": [
    "final_cols=['compactness_worst','compactness_mean','compactness_se','concavity_se','concavity_worst',\n",
    "            'fractal_dimension_worst','radius_se','smoothness_se','symmetry_worst','concave points_mean',\n",
    "            'smoothness_mean','smoothness_worst','symmetry_mean','fractal_dimension_mean','radius_mean',\n",
    "            'radius_worst','symmetry_se','texture_se']"
   ]
  },
  {
   "cell_type": "code",
   "execution_count": 3,
   "id": "fundamental-recall",
   "metadata": {},
   "outputs": [],
   "source": [
    "data=pd.read_csv('../Data/data.csv')\n",
    "data.replace({'diagnosis':{'B':1,'M':0}},inplace=True)"
   ]
  },
  {
   "cell_type": "code",
   "execution_count": 4,
   "id": "comparative-organizer",
   "metadata": {},
   "outputs": [],
   "source": [
    "x=data[final_cols]"
   ]
  },
  {
   "cell_type": "code",
   "execution_count": null,
   "id": "qualified-california",
   "metadata": {},
   "outputs": [],
   "source": []
  }
 ],
 "metadata": {
  "hide_input": false,
  "kernelspec": {
   "display_name": "Python 3",
   "language": "python",
   "name": "python3"
  },
  "language_info": {
   "codemirror_mode": {
    "name": "ipython",
    "version": 3
   },
   "file_extension": ".py",
   "mimetype": "text/x-python",
   "name": "python",
   "nbconvert_exporter": "python",
   "pygments_lexer": "ipython3",
   "version": "3.6.5"
  },
  "latex_envs": {
   "LaTeX_envs_menu_present": true,
   "autoclose": false,
   "autocomplete": true,
   "bibliofile": "biblio.bib",
   "cite_by": "apalike",
   "current_citInitial": 1,
   "eqLabelWithNumbers": true,
   "eqNumInitial": 1,
   "hotkeys": {
    "equation": "Ctrl-E",
    "itemize": "Ctrl-I"
   },
   "labels_anchors": false,
   "latex_user_defs": false,
   "report_style_numbering": false,
   "user_envs_cfg": false
  }
 },
 "nbformat": 4,
 "nbformat_minor": 5
}
